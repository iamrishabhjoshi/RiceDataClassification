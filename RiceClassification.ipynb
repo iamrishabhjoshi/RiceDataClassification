{
 "cells": [
  {
   "cell_type": "code",
   "execution_count": 2,
   "id": "98a76a8a",
   "metadata": {},
   "outputs": [
    {
     "name": "stdout",
     "output_type": "stream",
     "text": [
      "(75000, 107)\n",
      "   AREA  PERIMETER  MAJOR_AXIS  MINOR_AXIS  ECCENTRICITY   EQDIASQ  SOLIDITY  \\\n",
      "0  7805    437.915    209.8215     48.0221        0.9735   99.6877    0.9775   \n",
      "1  7503    340.757    138.3361     69.8417        0.8632   97.7400    0.9660   \n",
      "2  5124    314.617    141.9803     46.5784        0.9447   80.7718    0.9721   \n",
      "3  7990    437.085    201.4386     51.2245        0.9671  100.8622    0.9659   \n",
      "4  7433    342.893    140.3350     68.3927        0.8732   97.2830    0.9831   \n",
      "\n",
      "   CONVEX_AREA  EXTENT  ASPECT_RATIO  ...  ALLdaub4L  ALLdaub4a  ALLdaub4b  \\\n",
      "0         7985  0.3547        4.3693  ...   113.9924    65.0610    59.5989   \n",
      "1         7767  0.6637        1.9807  ...   105.7055    64.3685    62.2084   \n",
      "2         5271  0.4760        3.0482  ...   109.7155    62.6423    58.7439   \n",
      "3         8272  0.6274        3.9325  ...   116.5405    64.9069    60.2562   \n",
      "4         7561  0.6006        2.0519  ...   107.7502    64.7071    61.3549   \n",
      "\n",
      "   ALLdaub4Y  ALLdaub4Cb  ALLdaub4Cr  ALLdaub4XX  ALLdaub4YY  ALLdaub4ZZ  \\\n",
      "0   104.8552     67.8779     63.0828      0.3673      0.3793      0.4733   \n",
      "1    96.8375     65.5371     63.5832      0.3014      0.3144      0.3641   \n",
      "2   100.2352     68.9753     59.8342      0.3233      0.3445      0.4448   \n",
      "3   107.2560     67.3298     63.2237      0.3880      0.4020      0.4904   \n",
      "4    98.8704     66.2048     63.5378      0.3184      0.3303      0.3928   \n",
      "\n",
      "     CLASS  \n",
      "0  Basmati  \n",
      "1  Arborio  \n",
      "2  Jasmine  \n",
      "3  Basmati  \n",
      "4  Arborio  \n",
      "\n",
      "[5 rows x 107 columns]\n"
     ]
    }
   ],
   "source": [
    "import pandas as pd\n",
    "df=pd.read_csv('Rice_data.csv')\n",
    "# df.columns=['Class']\n",
    "df\n",
    "print(df.shape)\n",
    "print(df.head())"
   ]
  },
  {
   "cell_type": "code",
   "execution_count": 3,
   "id": "3c859163",
   "metadata": {},
   "outputs": [
    {
     "name": "stdout",
     "output_type": "stream",
     "text": [
      "<class 'pandas.core.frame.DataFrame'>\n",
      "RangeIndex: 75000 entries, 0 to 74999\n",
      "Columns: 107 entries, AREA to CLASS\n",
      "dtypes: float64(95), int64(11), object(1)\n",
      "memory usage: 61.2+ MB\n"
     ]
    }
   ],
   "source": [
    "#step 1:\n",
    "df.info()"
   ]
  },
  {
   "cell_type": "code",
   "execution_count": 4,
   "id": "c90f2126",
   "metadata": {},
   "outputs": [
    {
     "data": {
      "text/plain": [
       "AREA            0\n",
       "PERIMETER       0\n",
       "MAJOR_AXIS      0\n",
       "MINOR_AXIS      0\n",
       "ECCENTRICITY    0\n",
       "               ..\n",
       "ALLdaub4Cr      0\n",
       "ALLdaub4XX      0\n",
       "ALLdaub4YY      0\n",
       "ALLdaub4ZZ      0\n",
       "CLASS           0\n",
       "Length: 107, dtype: int64"
      ]
     },
     "execution_count": 4,
     "metadata": {},
     "output_type": "execute_result"
    }
   ],
   "source": [
    "df.isna().sum()"
   ]
  },
  {
   "cell_type": "code",
   "execution_count": 5,
   "id": "7bd3913c",
   "metadata": {},
   "outputs": [],
   "source": [
    "df.dropna(inplace=True)"
   ]
  },
  {
   "cell_type": "code",
   "execution_count": 6,
   "id": "24b83e3d",
   "metadata": {},
   "outputs": [
    {
     "data": {
      "text/plain": [
       "Arborio      15000\n",
       "Basmati      15000\n",
       "Karacadag    15000\n",
       "Jasmine      14998\n",
       "Ipsala       14994\n",
       "Name: CLASS, dtype: int64"
      ]
     },
     "execution_count": 6,
     "metadata": {},
     "output_type": "execute_result"
    }
   ],
   "source": [
    "df['CLASS'].value_counts()"
   ]
  },
  {
   "cell_type": "code",
   "execution_count": 7,
   "id": "601e92de",
   "metadata": {},
   "outputs": [
    {
     "data": {
      "text/plain": [
       "<bound method IndexOpsMixin.value_counts of 0        2\n",
       "1        0\n",
       "2        1\n",
       "3        2\n",
       "4        0\n",
       "        ..\n",
       "74995    0\n",
       "74996    3\n",
       "74997    0\n",
       "74998    4\n",
       "74999    4\n",
       "Name: CLASS, Length: 74992, dtype: int64>"
      ]
     },
     "execution_count": 7,
     "metadata": {},
     "output_type": "execute_result"
    }
   ],
   "source": [
    "dict={'Arborio':0,'Jasmine':1,'Basmati':2,'Karacadag':3,'Ipsala':4}\n",
    "df1=df\n",
    "df1['CLASS']=df1['CLASS'].map(dict)\n",
    "df1['CLASS'].value_counts"
   ]
  },
  {
   "cell_type": "code",
   "execution_count": 9,
   "id": "ce8202d0",
   "metadata": {},
   "outputs": [
    {
     "name": "stdout",
     "output_type": "stream",
     "text": [
      "        AREA  PERIMETER  MAJOR_AXIS  MINOR_AXIS  ECCENTRICITY   EQDIASQ  \\\n",
      "0       7805    437.915    209.8215     48.0221        0.9735   99.6877   \n",
      "1       7503    340.757    138.3361     69.8417        0.8632   97.7400   \n",
      "2       5124    314.617    141.9803     46.5784        0.9447   80.7718   \n",
      "3       7990    437.085    201.4386     51.2245        0.9671  100.8622   \n",
      "4       7433    342.893    140.3350     68.3927        0.8732   97.2830   \n",
      "...      ...        ...         ...         ...           ...       ...   \n",
      "74995   5551    285.911    114.1695     62.9079        0.8345   84.0699   \n",
      "74996   7696    322.703    121.3900     81.1375        0.7438   98.9892   \n",
      "74997   7579    339.295    136.3125     71.2866        0.8524   98.2338   \n",
      "74998  15174    489.502    200.9486     97.6282        0.8740  138.9969   \n",
      "74999  12931    452.635    185.5138     90.2651        0.8736  128.3131   \n",
      "\n",
      "       SOLIDITY  CONVEX_AREA  EXTENT  ASPECT_RATIO  ...  ALLdaub4V  ALLdaub4L  \\\n",
      "0        0.9775         7985  0.3547        4.3693  ...     0.4733   113.9924   \n",
      "1        0.9660         7767  0.6637        1.9807  ...     0.4182   105.7055   \n",
      "2        0.9721         5271  0.4760        3.0482  ...     0.4606   109.7155   \n",
      "3        0.9659         8272  0.6274        3.9325  ...     0.4797   116.5405   \n",
      "4        0.9831         7561  0.6006        2.0519  ...     0.4332   107.7502   \n",
      "...         ...          ...     ...           ...  ...        ...        ...   \n",
      "74995    0.9846         5638  0.6418        1.8149  ...     0.4094   103.9529   \n",
      "74996    0.9868         7799  0.7309        1.4961  ...     0.4507   108.9778   \n",
      "74997    0.9805         7730  0.6399        1.9122  ...     0.4255   106.0881   \n",
      "74998    0.9766        15537  0.7903        2.0583  ...     0.4648   119.2037   \n",
      "74999    0.9760        13249  0.7640        2.0552  ...     0.4742   121.4198   \n",
      "\n",
      "       ALLdaub4a  ALLdaub4b  ALLdaub4Y  ALLdaub4Cb  ALLdaub4Cr  ALLdaub4XX  \\\n",
      "0        65.0610    59.5989   104.8552     67.8779     63.0828      0.3673   \n",
      "1        64.3685    62.2084    96.8375     65.5371     63.5832      0.3014   \n",
      "2        62.6423    58.7439   100.2352     68.9753     59.8342      0.3233   \n",
      "3        64.9069    60.2562   107.2560     67.3298     63.2237      0.3880   \n",
      "4        64.7071    61.3549    98.8704     66.2048     63.5378      0.3184   \n",
      "...          ...        ...        ...         ...         ...         ...   \n",
      "74995    64.9225    62.4355    95.2780     65.5114     64.4457      0.2895   \n",
      "74996    65.4571    59.9502   100.2301     67.5089     63.6028      0.3335   \n",
      "74997    64.1869    61.3876    97.1585     66.2445     63.0596      0.3028   \n",
      "74998    63.3545    64.8200   109.3027     63.3122     63.5967      0.3970   \n",
      "74999    63.5424    65.2355   111.4580     63.0129     63.9117      0.4162   \n",
      "\n",
      "       ALLdaub4YY  ALLdaub4ZZ  \n",
      "0          0.3793      0.4733  \n",
      "1          0.3144      0.3641  \n",
      "2          0.3445      0.4448  \n",
      "3          0.4020      0.4904  \n",
      "4          0.3303      0.3928  \n",
      "...           ...         ...  \n",
      "74995      0.2997      0.3455  \n",
      "74996      0.3426      0.4257  \n",
      "74997      0.3164      0.3761  \n",
      "74998      0.4215      0.4469  \n",
      "74999      0.4414      0.4626  \n",
      "\n",
      "[74992 rows x 106 columns]\n",
      "(74992, 106)\n",
      "(74992,)\n",
      "0        2\n",
      "1        0\n",
      "2        1\n",
      "3        2\n",
      "4        0\n",
      "        ..\n",
      "74995    0\n",
      "74996    3\n",
      "74997    0\n",
      "74998    4\n",
      "74999    4\n",
      "Name: CLASS, Length: 74992, dtype: int64\n"
     ]
    }
   ],
   "source": [
    "x=df1.iloc[0:,:-1] \n",
    "print(x)#for some particular columns\n",
    "y=df1[\"CLASS\"]\n",
    "print(x.shape)\n",
    "print(y.shape)\n",
    "print(y)"
   ]
  },
  {
   "cell_type": "code",
   "execution_count": 10,
   "id": "52f59bcd",
   "metadata": {},
   "outputs": [
    {
     "name": "stdout",
     "output_type": "stream",
     "text": [
      "15000\n",
      "[0 1 2 3 4]\n"
     ]
    }
   ],
   "source": [
    "print((y==0).sum())\n",
    "import numpy as np\n",
    "print(np.unique(y))"
   ]
  },
  {
   "cell_type": "code",
   "execution_count": 11,
   "id": "ed4b7035",
   "metadata": {},
   "outputs": [
    {
     "name": "stdout",
     "output_type": "stream",
     "text": [
      "(74992, 106)\n",
      "(52494, 106)\n",
      "(22498, 106)\n"
     ]
    }
   ],
   "source": [
    "#Test train test\n",
    "from sklearn.model_selection import train_test_split\n",
    "x_train,x_test,y_train,y_test=train_test_split(x,y,test_size=0.3,random_state=0)\n",
    "print(x.shape)\n",
    "print(x_train.shape)\n",
    "print(x_test.shape)"
   ]
  },
  {
   "cell_type": "code",
   "execution_count": 12,
   "id": "aef57078",
   "metadata": {},
   "outputs": [],
   "source": [
    "#model\n",
    "from sklearn.linear_model import Perceptron\n",
    "clf=Perceptron()\n",
    "clf.fit(x_train,y_train)\n",
    "y_train_pred=clf.predict(x_train)\n",
    "y_test_pred=clf.predict(x_test)"
   ]
  },
  {
   "cell_type": "code",
   "execution_count": 13,
   "id": "20f667da",
   "metadata": {},
   "outputs": [
    {
     "name": "stdout",
     "output_type": "stream",
     "text": [
      "Training Acc 0.6477121194803216\n",
      "Testing Acc 0.6471686372121966\n"
     ]
    }
   ],
   "source": [
    "from sklearn.metrics import accuracy_score\n",
    "train_acc=accuracy_score(y_train,y_train_pred)\n",
    "test_acc=accuracy_score(y_test,y_test_pred)\n",
    "print('Training Acc',train_acc)\n",
    "print('Testing Acc',test_acc)"
   ]
  },
  {
   "cell_type": "code",
   "execution_count": 14,
   "id": "3ca2218a",
   "metadata": {},
   "outputs": [
    {
     "name": "stdout",
     "output_type": "stream",
     "text": [
      "7938\n"
     ]
    }
   ],
   "source": [
    "print((y_test!=y_test_pred).sum())"
   ]
  },
  {
   "cell_type": "code",
   "execution_count": 15,
   "id": "4de3c821",
   "metadata": {},
   "outputs": [
    {
     "name": "stdout",
     "output_type": "stream",
     "text": [
      "              precision    recall  f1-score   support\n",
      "\n",
      "           0       0.44      0.91      0.59      4436\n",
      "           1       0.65      0.28      0.39      4476\n",
      "           2       0.67      0.78      0.72      4532\n",
      "           3       0.99      0.28      0.43      4570\n",
      "           4       0.93      1.00      0.96      4484\n",
      "\n",
      "    accuracy                           0.65     22498\n",
      "   macro avg       0.73      0.65      0.62     22498\n",
      "weighted avg       0.74      0.65      0.62     22498\n",
      "\n"
     ]
    }
   ],
   "source": [
    "from sklearn.metrics import classification_report\n",
    "cr=classification_report(y_test,y_test_pred)\n",
    "print(cr)"
   ]
  },
  {
   "cell_type": "code",
   "execution_count": 16,
   "id": "19f78bb4",
   "metadata": {},
   "outputs": [
    {
     "name": "stdout",
     "output_type": "stream",
     "text": [
      "[[4024   27   81    0  304]\n",
      " [2833 1262  359    1   21]\n",
      " [ 380  582 3528   16   26]\n",
      " [1931   78 1291 1268    2]\n",
      " [   6    0    0    0 4478]]\n"
     ]
    }
   ],
   "source": [
    "from sklearn.metrics import confusion_matrix\n",
    "cm=confusion_matrix(y_test,y_test_pred)\n",
    "print(cm)"
   ]
  },
  {
   "cell_type": "code",
   "execution_count": 17,
   "id": "6c9dce6a",
   "metadata": {},
   "outputs": [
    {
     "data": {
      "text/plain": [
       "<AxesSubplot:>"
      ]
     },
     "execution_count": 17,
     "metadata": {},
     "output_type": "execute_result"
    },
    {
     "data": {
      "image/png": "[encoded data removed]",
      "text/plain": [
       "<Figure size 432x288 with 1 Axes>"
      ]
     },
     "metadata": {
      "needs_background": "light"
     },
     "output_type": "display_data"
    }
   ],
   "source": [
    "import seaborn as sns\n",
    "sns.heatmap(cm,annot=True,cbar=False)"
   ]
  },
  {
   "cell_type": "code",
   "execution_count": 18,
   "id": "4f5cc8f2",
   "metadata": {},
   "outputs": [
    {
     "name": "stdout",
     "output_type": "stream",
     "text": [
      "Training Acc 0.6477121194803216\n",
      "Testing Acc 0.6471686372121966\n"
     ]
    }
   ],
   "source": [
    "#model\n",
    "from sklearn.linear_model import LogisticRegression\n",
    "clf=Perceptron()\n",
    "clf.fit(x_train,y_train)\n",
    "y_train_pred=clf.predict(x_train)\n",
    "y_test_pred=clf.predict(x_test)\n",
    "from sklearn.metrics import accuracy_score\n",
    "train_acc=accuracy_score(y_train,y_train_pred)\n",
    "test_acc=accuracy_score(y_test,y_test_pred)\n",
    "print('Training Acc',train_acc)\n",
    "print('Testing Acc',test_acc)"
   ]
  },
  {
   "cell_type": "code",
   "execution_count": 19,
   "id": "7d4267c8",
   "metadata": {},
   "outputs": [
    {
     "name": "stdout",
     "output_type": "stream",
     "text": [
      "Training Acc 0.7789271154798644\n",
      "Testing Acc 0.7792692683794115\n"
     ]
    },
    {
     "name": "stderr",
     "output_type": "stream",
     "text": [
      "/opt/anaconda3/lib/python3.8/site-packages/sklearn/linear_model/_logistic.py:763: ConvergenceWarning: lbfgs failed to converge (status=1):\n",
      "STOP: TOTAL NO. of ITERATIONS REACHED LIMIT.\n",
      "\n",
      "Increase the number of iterations (max_iter) or scale the data as shown in:\n",
      "    https://scikit-learn.org/stable/modules/preprocessing.html\n",
      "Please also refer to the documentation for alternative solver options:\n",
      "    https://scikit-learn.org/stable/modules/linear_model.html#logistic-regression\n",
      "  n_iter_i = _check_optimize_result(\n"
     ]
    }
   ],
   "source": [
    "#model Logistic\n",
    "from sklearn.linear_model import LogisticRegression\n",
    "clf=LogisticRegression()\n",
    "clf.fit(x_train,y_train)\n",
    "y_train_pred=clf.predict(x_train)\n",
    "y_test_pred=clf.predict(x_test)\n",
    "from sklearn.metrics import accuracy_score\n",
    "train_acc=accuracy_score(y_train,y_train_pred)\n",
    "test_acc=accuracy_score(y_test,y_test_pred)\n",
    "print('Training Acc',train_acc)\n",
    "print('Testing Acc',test_acc)"
   ]
  },
  {
   "cell_type": "code",
   "execution_count": 20,
   "id": "950bb411",
   "metadata": {},
   "outputs": [
    {
     "name": "stdout",
     "output_type": "stream",
     "text": [
      "Training Acc 0.9099706633139025\n",
      "Testing Acc 0.9112365543603876\n"
     ]
    }
   ],
   "source": [
    "#model SVC Support Vector machine\n",
    "from sklearn.svm import SVC\n",
    "clf=SVC()\n",
    "clf.fit(x_train,y_train)\n",
    "y_train_pred=clf.predict(x_train)\n",
    "y_test_pred=clf.predict(x_test)\n",
    "from sklearn.metrics import accuracy_score\n",
    "train_acc=accuracy_score(y_train,y_train_pred)\n",
    "test_acc=accuracy_score(y_test,y_test_pred)\n",
    "print('Training Acc',train_acc)\n",
    "print('Testing Acc',test_acc)"
   ]
  },
  {
   "cell_type": "code",
   "execution_count": 22,
   "id": "41bc94d9",
   "metadata": {},
   "outputs": [
    {
     "name": "stdout",
     "output_type": "stream",
     "text": [
      "Training Acc 0.9402026898312188\n",
      "Testing Acc 0.9238598986576585\n"
     ]
    }
   ],
   "source": [
    "#model SVC Support Vector machine\n",
    "from sklearn.neighbors import KNeighborsClassifier\n",
    "clf=KNeighborsClassifier()\n",
    "clf.fit(x_train,y_train)\n",
    "y_train_pred=clf.predict(x_train)\n",
    "y_test_pred=clf.predict(x_test)\n",
    "from sklearn.metrics import accuracy_score\n",
    "train_acc=accuracy_score(y_train,y_train_pred)\n",
    "test_acc=accuracy_score(y_test,y_test_pred)\n",
    "print('Training Acc',train_acc)\n",
    "print('Testing Acc',test_acc)"
   ]
  },
  {
   "cell_type": "code",
   "execution_count": 21,
   "id": "dc901789",
   "metadata": {},
   "outputs": [
    {
     "name": "stderr",
     "output_type": "stream",
     "text": [
      "/opt/anaconda3/lib/python3.8/site-packages/sklearn/linear_model/_logistic.py:763: ConvergenceWarning: lbfgs failed to converge (status=1):\n",
      "STOP: TOTAL NO. of ITERATIONS REACHED LIMIT.\n",
      "\n",
      "Increase the number of iterations (max_iter) or scale the data as shown in:\n",
      "    https://scikit-learn.org/stable/modules/preprocessing.html\n",
      "Please also refer to the documentation for alternative solver options:\n",
      "    https://scikit-learn.org/stable/modules/linear_model.html#logistic-regression\n",
      "  n_iter_i = _check_optimize_result(\n"
     ]
    },
    {
     "name": "stdout",
     "output_type": "stream",
     "text": [
      "{'Per': 0.6471686372121966, 'LR': 0.7792692683794115, 'SVC': 0.9112365543603876, 'KNN': 0.9238598986576585, 'GNB': 0.7672682016179216, 'DT': 0.9953773668770557, 'RF': 0.9983554093697218, 'BAG': 0.9965774735532047, 'ET': 0.9984443061605476, 'ADA': 0.6204995999644413, 'GBC': 0.9983554093697218, 'VT': 0.8546981953951462}\n"
     ]
    }
   ],
   "source": [
    "### Compare the performance of different classifiers\n",
    "from sklearn.linear_model import Perceptron,LogisticRegression\n",
    "from sklearn.svm import SVC\n",
    "from sklearn.neighbors import KNeighborsClassifier\n",
    "from sklearn.naive_bayes import GaussianNB\n",
    "from sklearn.tree import DecisionTreeClassifier\n",
    "from sklearn.ensemble import RandomForestClassifier,BaggingClassifier\n",
    "from sklearn.ensemble import ExtraTreesClassifier,AdaBoostClassifier\n",
    "from sklearn.ensemble import GradientBoostingClassifier,VotingClassifier\n",
    "clf1=Perceptron()\n",
    "clf2=LogisticRegression()\n",
    "clf3=SVC()\n",
    "clf4=KNeighborsClassifier()\n",
    "clf5=GaussianNB()\n",
    "clf6=DecisionTreeClassifier()\n",
    "clf7=RandomForestClassifier()\n",
    "clf8=BaggingClassifier()\n",
    "clf9=ExtraTreesClassifier()\n",
    "clf10=AdaBoostClassifier()\n",
    "clf11=GradientBoostingClassifier()\n",
    "clf12=VotingClassifier(estimators=[('per',clf1),('dt',clf6),('ada',clf10)],voting='hard')\n",
    "clf=[clf1,clf2,clf3,clf4,clf5,clf6,clf7,clf8,clf9,clf10,clf11,clf12]\n",
    "name=['Per','LR','SVC','KNN','GNB','DT','RF','BAG','ET','ADA','GBC','VT']\n",
    "accuracy={}\n",
    "for model,model_name in zip(clf,name):\n",
    "    model.fit(x_train,y_train)\n",
    "    acc=accuracy_score(model.predict(x_test),y_test)\n",
    "    accuracy[model_name]=acc\n",
    "print(accuracy)"
   ]
  },
  {
   "cell_type": "code",
   "execution_count": null,
   "id": "30e6417f",
   "metadata": {},
   "outputs": [],
   "source": []
  }
 ],
 "metadata": {
  "kernelspec": {
   "display_name": "Python 3",
   "language": "python",
   "name": "python3"
  },
  "language_info": {
   "codemirror_mode": {
    "name": "ipython",
    "version": 3
   },
   "file_extension": ".py",
   "mimetype": "text/x-python",
   "name": "python",
   "nbconvert_exporter": "python",
   "pygments_lexer": "ipython3",
   "version": "3.8.8"
  }
 },
 "nbformat": 4,
 "nbformat_minor": 5
}
